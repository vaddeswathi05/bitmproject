{
 "cells": [
  {
   "cell_type": "code",
   "execution_count": 1,
   "id": "bc8fabff-877d-44d5-903d-362ef6db47f2",
   "metadata": {},
   "outputs": [
    {
     "name": "stdout",
     "output_type": "stream",
     "text": [
      "name\n"
     ]
    }
   ],
   "source": []
  },
  {
   "cell_type": "code",
   "execution_count": null,
   "id": "a7bc1adc-2e03-4f9e-81b2-2c9b58237a91",
   "metadata": {},
   "outputs": [],
   "source": [
    "def my_fuction(*,x):\n",
    "    print(x)\n",
    "    my_function(x=3)\n"
   ]
  },
  {
   "cell_type": "code",
   "execution_count": null,
   "id": "49114107-ac46-4c73-9942-cb15c3830809",
   "metadata": {},
   "outputs": [],
   "source": []
  }
 ],
 "metadata": {
  "kernelspec": {
   "display_name": "Python 3 (ipykernel)",
   "language": "python",
   "name": "python3"
  },
  "language_info": {
   "codemirror_mode": {
    "name": "ipython",
    "version": 3
   },
   "file_extension": ".py",
   "mimetype": "text/x-python",
   "name": "python",
   "nbconvert_exporter": "python",
   "pygments_lexer": "ipython3",
   "version": "3.11.7"
  }
 },
 "nbformat": 4,
 "nbformat_minor": 5
}
